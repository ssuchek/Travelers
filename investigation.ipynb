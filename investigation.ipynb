{
 "cells": [
  {
   "cell_type": "code",
   "execution_count": 5,
   "id": "a65cd6c7",
   "metadata": {},
   "outputs": [],
   "source": [
    "import os\n",
    "\n",
    "import numpy as np\n",
    "import pandas as pd\n",
    "import xlrd"
   ]
  },
  {
   "cell_type": "code",
   "execution_count": 26,
   "id": "64aa175d",
   "metadata": {},
   "outputs": [
    {
     "data": {
      "text/plain": [
       "['/Users/user/Documents/Pentatonic/Travelers/data/Pentatonic_Xact_Categories_5yr_Final_5.xlsx',\n",
       " '/Users/user/Documents/Pentatonic/Travelers/data/Pentatonic_Xact_Categories_5yr_Final_4.xlsx',\n",
       " '/Users/user/Documents/Pentatonic/Travelers/data/Pentatonic_Xact_Categories_5yr_Final_3.xlsx',\n",
       " '/Users/user/Documents/Pentatonic/Travelers/data/Pentatonic_Xact_Categories_5yr_Final_2.xlsx',\n",
       " '/Users/user/Documents/Pentatonic/Travelers/data/Pentatonic_Xact_Categories_5yr_Final_1.xlsx',\n",
       " '/Users/user/Documents/Pentatonic/Travelers/data/Pentatonic_Xact_Categories_5yr_Final_6.xlsx']"
      ]
     },
     "execution_count": 26,
     "metadata": {},
     "output_type": "execute_result"
    }
   ],
   "source": [
    "data_path = '/Users/user/Documents/Pentatonic/Travelers/data'\n",
    "\n",
    "files = [os.path.join(data_path, f) for f in os.listdir(data_path) if os.path.isfile(os.path.join(data_path, f)) and \"Xact_Categories\" in f and f.endswith(\".xlsx\")]\n",
    "\n",
    "files"
   ]
  },
  {
   "cell_type": "code",
   "execution_count": 28,
   "id": "6a0f1b52",
   "metadata": {},
   "outputs": [],
   "source": [
    "temp_data = []\n",
    "for file in files:\n",
    "    temp_data.append(pd.read_excel(file))\n",
    "    \n",
    "data = pd.concat(temp_data, ignore_index=True)"
   ]
  },
  {
   "cell_type": "code",
   "execution_count": 29,
   "id": "adeba8c0",
   "metadata": {},
   "outputs": [
    {
     "data": {
      "text/plain": [
       "1357348"
      ]
     },
     "execution_count": 29,
     "metadata": {},
     "output_type": "execute_result"
    }
   ],
   "source": [
    "data.shape[0]"
   ]
  },
  {
   "cell_type": "code",
   "execution_count": 47,
   "id": "a5f7274f",
   "metadata": {},
   "outputs": [],
   "source": [
    "rename_map = {\n",
    "    \"category_description\" : \"subcategory\",\n",
    "    \"ITM_TYP_DESC_2\" : \"item_description\",\n",
    "    \"DIV_CD\" : \"div_cd\",\n",
    "    \"LS_YYMM\" : \"ls_date\",\n",
    "    \"peril_grp\" : \"reason\",\n",
    "    \"ITM_UNIT_CD\" : \"item_unit_cd\",\n",
    "    \"ITM_QTY\" : \"item_quantity\",\n",
    "    \"count1\" : \"count\"\n",
    "}\n",
    "\n",
    "data = data.rename(columns=rename_map)"
   ]
  },
  {
   "cell_type": "code",
   "execution_count": 48,
   "id": "5abb4c80",
   "metadata": {},
   "outputs": [],
   "source": [
    "# data.drop(columns=[\"primary_col_desc\"], inplace=True)"
   ]
  },
  {
   "cell_type": "code",
   "execution_count": 49,
   "id": "e40743f3",
   "metadata": {},
   "outputs": [
    {
     "name": "stdout",
     "output_type": "stream",
     "text": [
      "Number of categories: 121\n",
      "Categories: ['ACCESSORIES - MOBILE HOME', 'ACOUSTICAL TREATMENTS', 'ANTIQUES & VINTAGE GOODS', 'APPLIANCES', 'APPLIANCES - MAJOR W/O INSTALL', 'APPLIANCES - SMALL', 'ART RESTORATION, CONSERVATION', 'ARTWORK', 'AUTOMOTIVE & MOTORCYCLE ACC.', 'AWNINGS & PATIO COVERS', 'BOOKS, MAGAZINES & PERIODICALS', 'BUSINESS GOODS & EQUIPMENT', 'CABINETRY', 'CAMERAS, CAMCORDERS & EQUIP.', 'CASH & SECURITIES', 'CLEANING', 'CLOTHING & ACCESSORIES', 'COMPUTERS & RELATED GOODS', 'CONCRETE & ASPHALT', 'CONT: CEILING/WALL HANGINGS', 'CONT: CLEAN - GENERAL ITEMS', 'CONT: CLEAN - HARD FURNITURE', 'CONT: CLEAN - LAMPS OR VASES', 'CONT: CLEAN APPLIANCES', 'CONT: CLEAN ELECTRIC ITEMS', 'CONT: CLEAN,UPHOLSTRY & SOFT', 'CONT: GARMENT & SOFT GOODS CLN', 'CONT: PACKING,HANDLNG,STORAGE', 'CONTENT MANIPULATION', 'CREDIT', 'DOCUMENTS & VALUABLE PAPERS', 'DOORS', 'DRYWALL', 'ELECTRICAL', 'ELECTRICAL - SPECIAL SYSTEMS', 'ELECTRONICS', 'EXCAVATION', 'EXTERIOR STRUCTURES', 'FEES - CONTENTS MISC.', 'FENCING', 'FINISH CARPENTRY / TRIMWORK', 'FINISH HARDWARE', 'FIRE PROTECTION SYSTEMS', 'FIREARMS & ACCESSORIES', 'FIREPLACES', 'FLOOR COVERING - CARPET', 'FLOOR COVERING - CERAMIC TILE', 'FLOOR COVERING - RESILIENT', 'FLOOR COVERING - STONE', 'FLOOR COVERING - VINYL', 'FLOOR COVERING - WOOD', 'FRAMING & ROUGH CARPENTRY', 'FURNITURE - HOME & OFFICE', 'GENERAL DEMOLITION', 'GLASS, GLAZING, & STOREFRONTS', 'HAZARDOUS MATERIAL REMEDIATION', 'HEALTH & MEDICAL SUPPLIES', 'HEAT,  VENT & AIR CONDITIONING', 'HEAVY EQUIPMENT', 'HOBBIES & COLLECTIBLES', 'HOUSEWARES - DINING & FLATWARE', 'HOUSEWARES - HOME DECOR', 'INFANT & BABY RELATED GOODS', 'INSULATION', 'INSULATION - MECHANICAL', 'INTERIOR LATH & PLASTER', 'JEWELRY & WATCHES', 'KITCHENWARE', 'LABOR ONLY', 'LANDSCAPING', 'LAWN, GARDEN & PATIO', 'LIGHT FIXTURES', 'LINENS & SOFTGOODS', 'LUGGAGE, BAGS & ACCESSORIES', 'MARBLE - CULTURED OR NATURAL', 'MASONRY', 'METAL STRUCTURES & COMPONENTS', 'MIRRORS & SHOWER DOORS', 'MISC. EQUIPMENT - AGRICULTURAL', 'MISC. EQUIPMENT - COMMERCIAL', 'MOBILE HOMES, SKIRTING & SETUP', 'MOISTURE PROTECTION', 'MUSIC, MOVIES & MEDIA', 'MUSICAL INSTRUMENTS & EQUIP.', 'OFFICE SUPPLIES', 'ORNAMENTAL IRON', 'PAINTING', 'PANELING & WOOD WALL FINISHES', 'PERISHABLE - NON-PERISHABLE', 'PERMITS AND FEES', 'PERSONAL CARE & BEAUTY', 'PET & ANIMAL SUPPLIES', 'PLUMBING', 'ROOFING', 'SCAFFOLDING', 'SIDING', 'SOFFIT, FASCIA, & GUTTER', 'SPECIALTY ITEMS', 'SPORTING GOODS & OUTDOORS', 'STAIRS', 'STEEL COMPONENTS', 'STEEL JOIST COMPONENTS', 'STUCCO & EXTERIOR PLASTER', 'SWIMMING POOLS & SPAS', 'TEMPORARY REPAIRS', 'TILE', 'TIMBER FRAMING', 'TOILET & BATH ACCESSORIES', 'TOOLS', 'TOYS & GAMES', 'TRAUMA/CRIME SCENE REMEDIATION', 'USER DEFINED ITEMS', 'WALLPAPER', 'WATER EXTRACTION & REMEDIATION', 'WINDOW REGLAZING & REPAIR', 'WINDOW TREATMENT', 'WINDOWS - ALUMINUM', 'WINDOWS - SKYLIGHTS', 'WINDOWS - SLIDING PATIO DOORS', 'WINDOWS - VINYL', 'WINDOWS - WOOD']\n"
     ]
    }
   ],
   "source": [
    "grouped = data.groupby('subcategory')\n",
    "categories = list(grouped.groups)\n",
    "print(\"Number of categories: {}\".format(len(categories)))\n",
    "print(\"Categories: {}\".format(categories))"
   ]
  },
  {
   "cell_type": "markdown",
   "id": "9dc72d83",
   "metadata": {},
   "source": [
    "Subcategories: [<font color='green'>'ACCESSORIES - MOBILE HOME'</font>, <font color='green'>'ACOUSTICAL TREATMENTS'</font>, 'ANTIQUES & VINTAGE GOODS', 'APPLIANCES', 'APPLIANCES - MAJOR W/O INSTALL', 'APPLIANCES - SMALL', 'ART RESTORATION, CONSERVATION', 'ARTWORK', 'AUTOMOTIVE & MOTORCYCLE ACC.', 'AWNINGS & PATIO COVERS', <font color='green'>'BOOKS, MAGAZINES & PERIODICALS'</font>, 'BUSINESS GOODS & EQUIPMENT', <font color='green'>'CABINETRY'</font>, <font color='green'>'CAMERAS, CAMCORDERS & EQUIP.'</font>, 'CASH & SECURITIES', 'CLEANING', <font color='green'>'CLOTHING & ACCESSORIES'</font>, <font color='green'>'COMPUTERS & RELATED GOODS'</font>, <font color='green'>'CONCRETE & ASPHALT'</font>, <font color='green'>'CONT: CEILING/WALL HANGINGS'</font>, 'CONT: CLEAN - GENERAL ITEMS', <font color='green'>'CONT: CLEAN - HARD FURNITURE'</font>, <font color='green'>'CONT: CLEAN - LAMPS OR VASES'</font>, 'CONT: CLEAN APPLIANCES', <font color='green'>'CONT: CLEAN ELECTRIC ITEMS'</font>, <font color='green'>'CONT: CLEAN,UPHOLSTRY & SOFT'</font>, <font color='green'>'CONT: GARMENT & SOFT GOODS CLN'</font>, 'CONT: PACKING,HANDLNG,STORAGE', 'CONTENT MANIPULATION', 'CREDIT', <font color='green'>'DOCUMENTS & VALUABLE PAPERS'</font>, <font color='green'>'DOORS'</font>, <font color='green'>'DRYWALL'</font>, <font color='green'>'ELECTRICAL'</font>, <font color='green'>'ELECTRICAL - SPECIAL SYSTEMS'</font>,<font color='green'> 'ELECTRONICS'</font>, <font color='green'>'EXCAVATION'</font>, 'EXTERIOR STRUCTURES', 'FEES - CONTENTS MISC.', <font color='green'>'FENCING'</font>, <font color='green'>'FINISH CARPENTRY / TRIMWORK'</font>, 'FINISH HARDWARE', 'FIRE PROTECTION SYSTEMS', 'FIREARMS & ACCESSORIES', 'FIREPLACES', <font color='green'>'FLOOR COVERING - CARPET'</font>, <font color='green'>'FLOOR COVERING - CERAMIC TILE'</font>, <font color='green'>'FLOOR COVERING - RESILIENT'</font>, <font color='green'>'FLOOR COVERING - STONE'</font>, <font color='green'>'FLOOR COVERING - VINYL'</font>, <font color='green'>'FLOOR COVERING - WOOD'</font>, <font color='green'>'FRAMING & ROUGH CARPENTRY'</font>, <font color='green'>'FURNITURE - HOME & OFFICE'</font>, 'GENERAL DEMOLITION', <font color='green'>'GLASS, GLAZING, & STOREFRONTS'</font>, <font color='green'>'HAZARDOUS MATERIAL REMEDIATION'</font>, 'HEALTH & MEDICAL SUPPLIES', <font color='green'>'HEAT,  VENT & AIR CONDITIONING'</font>, 'HEAVY EQUIPMENT', 'HOBBIES & COLLECTIBLES', <font color='green'>'HOUSEWARES - DINING & FLATWARE'</font>, <font color='green'>'HOUSEWARES - HOME DECOR'</font>, 'INFANT & BABY RELATED GOODS', <font color='green'>'INSULATION'</font>, <font color='green'>'INSULATION - MECHANICAL'</font>, <font color='green'>'INTERIOR LATH & PLASTER'</font>, <font color='green'>'JEWELRY & WATCHES'</font>, <font color='green'>'KITCHENWARE'</font>, 'LABOR ONLY', 'LANDSCAPING', <font color='green'>'LAWN, GARDEN & PATIO'</font>, <font color='green'>'LIGHT FIXTURES'</font>, <font color='green'>'LINENS & SOFTGOODS'</font>, 'LUGGAGE, BAGS & ACCESSORIES', <font color='green'>'MARBLE - CULTURED OR NATURAL'</font>, 'MASONRY', <font color='green'>'METAL STRUCTURES & COMPONENTS'</font>, <font color='green'>'MIRRORS & SHOWER DOORS'</font>, 'MISC. EQUIPMENT - AGRICULTURAL', 'MISC. EQUIPMENT - COMMERCIAL', 'MOBILE HOMES, SKIRTING & SETUP', 'MOISTURE PROTECTION', 'MUSIC, MOVIES & MEDIA', 'MUSICAL INSTRUMENTS & EQUIP.', 'OFFICE SUPPLIES', <font color='green'>'ORNAMENTAL IRON'</font>, 'PAINTING', 'PANELING & WOOD WALL FINISHES', 'PERISHABLE - NON-PERISHABLE', 'PERMITS AND FEES', 'PERSONAL CARE & BEAUTY', 'PET & ANIMAL SUPPLIES', <font color='green'>'PLUMBING'</font>, <font color='green'>'ROOFING'</font>, <font color='green'>'SCAFFOLDING'</font>, <font color='green'>'SIDING'</font>, <font color='green'>'SOFFIT, FASCIA, & GUTTER'</font>, 'SPECIALTY ITEMS', 'SPORTING GOODS & OUTDOORS', <font color='green'>'STAIRS'</font>, <font color='green'>'STEEL COMPONENTS'</font>, <font color='green'>'STEEL JOIST COMPONENTS'</font>, <font color='green'>'STUCCO & EXTERIOR PLASTER'</font>, <font color='green'>'SWIMMING POOLS & SPAS'</font>, 'TEMPORARY REPAIRS', <font color='green'>'TILE'</font>, <font color='green'>'TIMBER FRAMING'</font>, <font color='green'>'TOILET & BATH ACCESSORIES'</font>, 'TOOLS', 'TOYS & GAMES', 'TRAUMA/CRIME SCENE REMEDIATION', 'USER DEFINED ITEMS', <font color='green'>'WALLPAPER'</font>, 'WATER EXTRACTION & REMEDIATION', <font color='green'>'WINDOW REGLAZING & REPAIR'</font>, <font color='green'>'WINDOW TREATMENT'</font>, <font color='green'>'WINDOWS - ALUMINUM'</font>, <font color='green'>'WINDOWS - SKYLIGHTS'</font>, <font color='green'>'WINDOWS - SLIDING PATIO DOORS'</font>, <font color='green'>'WINDOWS - VINYL'</font>, <font color='green'>'WINDOWS - WOOD']</font>"
   ]
  },
  {
   "cell_type": "code",
   "execution_count": 65,
   "id": "00e11812",
   "metadata": {},
   "outputs": [
    {
     "name": "stderr",
     "output_type": "stream",
     "text": [
      "08:38:06 WARNING:0/1357348 items are already tagged as glass\n"
     ]
    },
    {
     "name": "stdout",
     "output_type": "stream",
     "text": [
      "0/1357348 items are already tagged as glass\n"
     ]
    },
    {
     "name": "stderr",
     "output_type": "stream",
     "text": [
      "08:38:06 WARNING:Tagged 8397/1357348 items as glass\n"
     ]
    },
    {
     "name": "stdout",
     "output_type": "stream",
     "text": [
      "Tagged 8397/1357348 items as glass\n"
     ]
    },
    {
     "name": "stderr",
     "output_type": "stream",
     "text": [
      "08:38:09 WARNING:0/1357348 items are already tagged as stone\n"
     ]
    },
    {
     "name": "stdout",
     "output_type": "stream",
     "text": [
      "0/1357348 items are already tagged as stone\n"
     ]
    },
    {
     "name": "stderr",
     "output_type": "stream",
     "text": [
      "08:38:09 WARNING:Tagged 3803/1357348 items as stone\n"
     ]
    },
    {
     "name": "stdout",
     "output_type": "stream",
     "text": [
      "Tagged 3803/1357348 items as stone\n"
     ]
    },
    {
     "name": "stderr",
     "output_type": "stream",
     "text": [
      "08:38:12 WARNING:0/1357348 items are already tagged as metal\n"
     ]
    },
    {
     "name": "stdout",
     "output_type": "stream",
     "text": [
      "0/1357348 items are already tagged as metal\n"
     ]
    },
    {
     "name": "stderr",
     "output_type": "stream",
     "text": [
      "08:38:12 WARNING:Tagged 6442/1357348 items as metal\n"
     ]
    },
    {
     "name": "stdout",
     "output_type": "stream",
     "text": [
      "Tagged 6442/1357348 items as metal\n"
     ]
    },
    {
     "name": "stderr",
     "output_type": "stream",
     "text": [
      "08:38:15 WARNING:0/1357348 items are already tagged as paper\n"
     ]
    },
    {
     "name": "stdout",
     "output_type": "stream",
     "text": [
      "0/1357348 items are already tagged as paper\n"
     ]
    },
    {
     "name": "stderr",
     "output_type": "stream",
     "text": [
      "08:38:15 WARNING:Tagged 4935/1357348 items as paper\n"
     ]
    },
    {
     "name": "stdout",
     "output_type": "stream",
     "text": [
      "Tagged 4935/1357348 items as paper\n"
     ]
    },
    {
     "name": "stderr",
     "output_type": "stream",
     "text": [
      "08:38:17 WARNING:0/1357348 items are already tagged as wood\n"
     ]
    },
    {
     "name": "stdout",
     "output_type": "stream",
     "text": [
      "0/1357348 items are already tagged as wood\n"
     ]
    },
    {
     "name": "stderr",
     "output_type": "stream",
     "text": [
      "08:38:17 WARNING:Tagged 46823/1357348 items as wood\n"
     ]
    },
    {
     "name": "stdout",
     "output_type": "stream",
     "text": [
      "Tagged 46823/1357348 items as wood\n"
     ]
    },
    {
     "name": "stderr",
     "output_type": "stream",
     "text": [
      "08:38:18 WARNING:0/1357348 items are already tagged as fiber\n"
     ]
    },
    {
     "name": "stdout",
     "output_type": "stream",
     "text": [
      "0/1357348 items are already tagged as fiber\n"
     ]
    },
    {
     "name": "stderr",
     "output_type": "stream",
     "text": [
      "08:38:18 WARNING:Tagged 0/1357348 items as fiber\n"
     ]
    },
    {
     "name": "stdout",
     "output_type": "stream",
     "text": [
      "Tagged 0/1357348 items as fiber\n"
     ]
    },
    {
     "name": "stderr",
     "output_type": "stream",
     "text": [
      "08:38:21 WARNING:0/1357348 items are already tagged as precious materials\n"
     ]
    },
    {
     "name": "stdout",
     "output_type": "stream",
     "text": [
      "0/1357348 items are already tagged as precious materials\n"
     ]
    },
    {
     "name": "stderr",
     "output_type": "stream",
     "text": [
      "08:38:21 WARNING:Tagged 2587/1357348 items as precious materials\n"
     ]
    },
    {
     "name": "stdout",
     "output_type": "stream",
     "text": [
      "Tagged 2587/1357348 items as precious materials\n"
     ]
    },
    {
     "name": "stderr",
     "output_type": "stream",
     "text": [
      "08:38:22 WARNING:0/1357348 items are already tagged as ceramic\n"
     ]
    },
    {
     "name": "stdout",
     "output_type": "stream",
     "text": [
      "0/1357348 items are already tagged as ceramic\n"
     ]
    },
    {
     "name": "stderr",
     "output_type": "stream",
     "text": [
      "08:38:22 WARNING:Tagged 0/1357348 items as ceramic\n"
     ]
    },
    {
     "name": "stdout",
     "output_type": "stream",
     "text": [
      "Tagged 0/1357348 items as ceramic\n"
     ]
    },
    {
     "name": "stderr",
     "output_type": "stream",
     "text": [
      "08:38:24 WARNING:0/1357348 items are already tagged as plastic\n"
     ]
    },
    {
     "name": "stdout",
     "output_type": "stream",
     "text": [
      "0/1357348 items are already tagged as plastic\n"
     ]
    },
    {
     "name": "stderr",
     "output_type": "stream",
     "text": [
      "08:38:24 WARNING:Tagged 0/1357348 items as plastic\n"
     ]
    },
    {
     "name": "stdout",
     "output_type": "stream",
     "text": [
      "Tagged 0/1357348 items as plastic\n"
     ]
    },
    {
     "name": "stderr",
     "output_type": "stream",
     "text": [
      "08:38:25 WARNING:0/1357348 items are already tagged as vinyl\n"
     ]
    },
    {
     "name": "stdout",
     "output_type": "stream",
     "text": [
      "0/1357348 items are already tagged as vinyl\n"
     ]
    },
    {
     "name": "stderr",
     "output_type": "stream",
     "text": [
      "08:38:25 WARNING:Tagged 8716/1357348 items as vinyl\n"
     ]
    },
    {
     "name": "stdout",
     "output_type": "stream",
     "text": [
      "Tagged 8716/1357348 items as vinyl\n"
     ]
    },
    {
     "data": {
      "text/html": [
       "<div>\n",
       "<style scoped>\n",
       "    .dataframe tbody tr th:only-of-type {\n",
       "        vertical-align: middle;\n",
       "    }\n",
       "\n",
       "    .dataframe tbody tr th {\n",
       "        vertical-align: top;\n",
       "    }\n",
       "\n",
       "    .dataframe thead th {\n",
       "        text-align: right;\n",
       "    }\n",
       "</style>\n",
       "<table border=\"1\" class=\"dataframe\">\n",
       "  <thead>\n",
       "    <tr style=\"text-align: right;\">\n",
       "      <th></th>\n",
       "      <th>subcategory</th>\n",
       "      <th>item_description</th>\n",
       "      <th>div_cd</th>\n",
       "      <th>ls_date</th>\n",
       "      <th>state</th>\n",
       "      <th>zip</th>\n",
       "      <th>reason</th>\n",
       "      <th>item_unit_cd</th>\n",
       "      <th>item_quantity</th>\n",
       "      <th>count</th>\n",
       "      <th>category</th>\n",
       "      <th>material</th>\n",
       "    </tr>\n",
       "  </thead>\n",
       "  <tbody>\n",
       "    <tr>\n",
       "      <th>0</th>\n",
       "      <td>PANELING &amp; WOOD WALL FINISHES</td>\n",
       "      <td>WATERPROOF PANELING W/TRIM - PREMIUM GRADE</td>\n",
       "      <td>PI</td>\n",
       "      <td>201910</td>\n",
       "      <td>TX</td>\n",
       "      <td>76063.0</td>\n",
       "      <td>Hail</td>\n",
       "      <td>SF</td>\n",
       "      <td>324.28</td>\n",
       "      <td>2</td>\n",
       "      <td>Furniture</td>\n",
       "      <td>wood</td>\n",
       "    </tr>\n",
       "    <tr>\n",
       "      <th>1</th>\n",
       "      <td>PANELING &amp; WOOD WALL FINISHES</td>\n",
       "      <td>WATERPROOF PANELING W/TRIM - PREMIUM GRADE</td>\n",
       "      <td>BI</td>\n",
       "      <td>201609</td>\n",
       "      <td>TX</td>\n",
       "      <td>76110.0</td>\n",
       "      <td>Water (NW)</td>\n",
       "      <td>SF</td>\n",
       "      <td>73.33</td>\n",
       "      <td>1</td>\n",
       "      <td>Furniture</td>\n",
       "      <td>wood</td>\n",
       "    </tr>\n",
       "    <tr>\n",
       "      <th>2</th>\n",
       "      <td>PANELING &amp; WOOD WALL FINISHES</td>\n",
       "      <td>WATERPROOF PANELING W/TRIM - HIGH GRADE</td>\n",
       "      <td>PI</td>\n",
       "      <td>201605</td>\n",
       "      <td>TX</td>\n",
       "      <td>79902.0</td>\n",
       "      <td>Water (NW)</td>\n",
       "      <td>SF</td>\n",
       "      <td>413.42</td>\n",
       "      <td>1</td>\n",
       "      <td>Furniture</td>\n",
       "      <td>wood</td>\n",
       "    </tr>\n",
       "    <tr>\n",
       "      <th>3</th>\n",
       "      <td>PANELING &amp; WOOD WALL FINISHES</td>\n",
       "      <td>WATERPROOF PANELING W/TRIM - COMMERCIAL (FRP)</td>\n",
       "      <td>BI</td>\n",
       "      <td>201910</td>\n",
       "      <td>TX</td>\n",
       "      <td>75220.0</td>\n",
       "      <td>Wind</td>\n",
       "      <td>SF</td>\n",
       "      <td>404.39</td>\n",
       "      <td>1</td>\n",
       "      <td>Furniture</td>\n",
       "      <td>wood</td>\n",
       "    </tr>\n",
       "    <tr>\n",
       "      <th>4</th>\n",
       "      <td>PANELING &amp; WOOD WALL FINISHES</td>\n",
       "      <td>WATERPROOF PANELING W/TRIM - COMMERCIAL (FRP)</td>\n",
       "      <td>BI</td>\n",
       "      <td>201906</td>\n",
       "      <td>TX</td>\n",
       "      <td>75206.0</td>\n",
       "      <td>Fire/Smoke</td>\n",
       "      <td>SF</td>\n",
       "      <td>277.98</td>\n",
       "      <td>1</td>\n",
       "      <td>Furniture</td>\n",
       "      <td>wood</td>\n",
       "    </tr>\n",
       "    <tr>\n",
       "      <th>...</th>\n",
       "      <td>...</td>\n",
       "      <td>...</td>\n",
       "      <td>...</td>\n",
       "      <td>...</td>\n",
       "      <td>...</td>\n",
       "      <td>...</td>\n",
       "      <td>...</td>\n",
       "      <td>...</td>\n",
       "      <td>...</td>\n",
       "      <td>...</td>\n",
       "      <td>...</td>\n",
       "      <td>...</td>\n",
       "    </tr>\n",
       "    <tr>\n",
       "      <th>1357343</th>\n",
       "      <td>WINDOWS - WOOD</td>\n",
       "      <td>ADD ON FOR \"LOW E\" GLASS</td>\n",
       "      <td>PI</td>\n",
       "      <td>201804</td>\n",
       "      <td>TX</td>\n",
       "      <td>75032.0</td>\n",
       "      <td>Hail</td>\n",
       "      <td>SF</td>\n",
       "      <td>NaN</td>\n",
       "      <td>1</td>\n",
       "      <td>Furniture</td>\n",
       "      <td>wood</td>\n",
       "    </tr>\n",
       "    <tr>\n",
       "      <th>1357344</th>\n",
       "      <td>WINDOWS - WOOD</td>\n",
       "      <td>ADD ON FOR \"LOW E\" GLASS</td>\n",
       "      <td>PI</td>\n",
       "      <td>201707</td>\n",
       "      <td>TX</td>\n",
       "      <td>79012.0</td>\n",
       "      <td>Hail</td>\n",
       "      <td>SF</td>\n",
       "      <td>57.00</td>\n",
       "      <td>1</td>\n",
       "      <td>Furniture</td>\n",
       "      <td>wood</td>\n",
       "    </tr>\n",
       "    <tr>\n",
       "      <th>1357345</th>\n",
       "      <td>WINDOWS - WOOD</td>\n",
       "      <td>ADD ON FOR \"LOW E\" GLASS</td>\n",
       "      <td>PI</td>\n",
       "      <td>201706</td>\n",
       "      <td>TX</td>\n",
       "      <td>75840.0</td>\n",
       "      <td>Crime</td>\n",
       "      <td>SF</td>\n",
       "      <td>32.00</td>\n",
       "      <td>1</td>\n",
       "      <td>Furniture</td>\n",
       "      <td>wood</td>\n",
       "    </tr>\n",
       "    <tr>\n",
       "      <th>1357346</th>\n",
       "      <td>WINDOWS - WOOD</td>\n",
       "      <td>ADD ON FOR \"LOW E\" GLASS</td>\n",
       "      <td>PI</td>\n",
       "      <td>201604</td>\n",
       "      <td>TX</td>\n",
       "      <td>75098.0</td>\n",
       "      <td>Hail</td>\n",
       "      <td>SF</td>\n",
       "      <td>70.50</td>\n",
       "      <td>2</td>\n",
       "      <td>Furniture</td>\n",
       "      <td>wood</td>\n",
       "    </tr>\n",
       "    <tr>\n",
       "      <th>1357347</th>\n",
       "      <td>WINDOWS - WOOD</td>\n",
       "      <td>ADD ON FOR \"LOW E\" GLASS</td>\n",
       "      <td>BI</td>\n",
       "      <td>201612</td>\n",
       "      <td>TX</td>\n",
       "      <td>77566.0</td>\n",
       "      <td>Crime</td>\n",
       "      <td>SF</td>\n",
       "      <td>75.00</td>\n",
       "      <td>1</td>\n",
       "      <td>Furniture</td>\n",
       "      <td>wood</td>\n",
       "    </tr>\n",
       "  </tbody>\n",
       "</table>\n",
       "<p>1357348 rows × 12 columns</p>\n",
       "</div>"
      ],
      "text/plain": [
       "                           subcategory  \\\n",
       "0        PANELING & WOOD WALL FINISHES   \n",
       "1        PANELING & WOOD WALL FINISHES   \n",
       "2        PANELING & WOOD WALL FINISHES   \n",
       "3        PANELING & WOOD WALL FINISHES   \n",
       "4        PANELING & WOOD WALL FINISHES   \n",
       "...                                ...   \n",
       "1357343                 WINDOWS - WOOD   \n",
       "1357344                 WINDOWS - WOOD   \n",
       "1357345                 WINDOWS - WOOD   \n",
       "1357346                 WINDOWS - WOOD   \n",
       "1357347                 WINDOWS - WOOD   \n",
       "\n",
       "                                      item_description div_cd  ls_date state  \\\n",
       "0           WATERPROOF PANELING W/TRIM - PREMIUM GRADE     PI   201910    TX   \n",
       "1           WATERPROOF PANELING W/TRIM - PREMIUM GRADE     BI   201609    TX   \n",
       "2              WATERPROOF PANELING W/TRIM - HIGH GRADE     PI   201605    TX   \n",
       "3        WATERPROOF PANELING W/TRIM - COMMERCIAL (FRP)     BI   201910    TX   \n",
       "4        WATERPROOF PANELING W/TRIM - COMMERCIAL (FRP)     BI   201906    TX   \n",
       "...                                                ...    ...      ...   ...   \n",
       "1357343                       ADD ON FOR \"LOW E\" GLASS     PI   201804    TX   \n",
       "1357344                       ADD ON FOR \"LOW E\" GLASS     PI   201707    TX   \n",
       "1357345                       ADD ON FOR \"LOW E\" GLASS     PI   201706    TX   \n",
       "1357346                       ADD ON FOR \"LOW E\" GLASS     PI   201604    TX   \n",
       "1357347                       ADD ON FOR \"LOW E\" GLASS     BI   201612    TX   \n",
       "\n",
       "             zip      reason item_unit_cd  item_quantity  count   category  \\\n",
       "0        76063.0        Hail           SF         324.28      2  Furniture   \n",
       "1        76110.0  Water (NW)           SF          73.33      1  Furniture   \n",
       "2        79902.0  Water (NW)           SF         413.42      1  Furniture   \n",
       "3        75220.0        Wind           SF         404.39      1  Furniture   \n",
       "4        75206.0  Fire/Smoke           SF         277.98      1  Furniture   \n",
       "...          ...         ...          ...            ...    ...        ...   \n",
       "1357343  75032.0        Hail           SF            NaN      1  Furniture   \n",
       "1357344  79012.0        Hail           SF          57.00      1  Furniture   \n",
       "1357345  75840.0       Crime           SF          32.00      1  Furniture   \n",
       "1357346  75098.0        Hail           SF          70.50      2  Furniture   \n",
       "1357347  77566.0       Crime           SF          75.00      1  Furniture   \n",
       "\n",
       "        material  \n",
       "0           wood  \n",
       "1           wood  \n",
       "2           wood  \n",
       "3           wood  \n",
       "4           wood  \n",
       "...          ...  \n",
       "1357343     wood  \n",
       "1357344     wood  \n",
       "1357345     wood  \n",
       "1357346     wood  \n",
       "1357347     wood  \n",
       "\n",
       "[1357348 rows x 12 columns]"
      ]
     },
     "execution_count": 65,
     "metadata": {},
     "output_type": "execute_result"
    }
   ],
   "source": [
    "import re, os, sys\n",
    "import logging\n",
    "\n",
    "logging.basicConfig(format='%(asctime)s %(levelname)s:%(message)s', level=logging.INFO, datefmt='%I:%M:%S')\n",
    "\n",
    "logger = logging.getLogger()\n",
    "handler = logging.StreamHandler(stream=sys.stdout)\n",
    "logger.addHandler(handler)\n",
    "\n",
    "data[\"category\"] = \"\"\n",
    "data[\"material\"] = \"\"\n",
    "\n",
    "category_items = {\n",
    "    \"Electrical\" : [\"ELECTRIC\", \"ELECTRONICS\", \"CAMERA\", \"COMPUTER\"],\n",
    "    \"Construction\" : [\"SCAFFOLDING\", \"GUTTER\", \"INSULATION\", \"ROOFING\", \"PLASTER\", \"SIDING\", 'STAIRS', 'EXCAVATION',\n",
    "                     'FENCING', 'MOBILE HOMES', 'MASONRY', 'PAINTING', \n",
    "                      \"ROOFING\", \"PLASTER\", \"WALL\", 'CEILING/WALL HANGINGS', \"TILE\", 'STAIRS', 'GENERAL DEMOLITION',\n",
    "                     'CONCRETE', 'ASPHALT', 'MARBLE'],\n",
    "    \"Furniture\" : [\"DOORS\", \"FURNITURE\", \"WINDOW\", 'CABINETRY', 'PANELING & WOOD WALL FINISHES', 'CARPENTRY'],\n",
    "    \"Scrap metal\" : [\"METAL\", \"ORNAMENTAL IRON\", 'STEEL'],\n",
    "    \"Sanitary equipment\" : ['PLUMBING', 'TOILET & BATH ACCESSORIES', 'SWIMMING POOLS & SPAS'],\n",
    "    \"Paper materials\" : [\"PAPER\", \"BOOKS, MAGAZINES & PERIODICALS\", 'DOCUMENTS & VALUABLE PAPERS'],\n",
    "    \"Home appliances & decor\" : ['HEAT,  VENT & AIR CONDITIONING', 'CLEAN APPLIANCES', 'CONT: CLEAN - LAMPS OR VASES',\n",
    "                              'HOME DECOR', 'HOUSEWARES', 'KITCHENWARE', 'LAWN, GARDEN & PATIO', 'LIGHT FIXTURES'],\n",
    "    \"Hazardous\" : ['HAZARDOUS', 'TOXIC'],\n",
    "    \"Uphostry\" : [\"UPHOSTRY\", \"PLASTER\", \"VINYL\", \"FLOOR COVERING\", \"ACOUSTICAL TREATMENTS\"],\n",
    "    \"Clothing\" : [\"CLOTH\", \"LINEN\", 'GARMEN'],\n",
    "    \"Glass\" : [\"GLASS\"]\n",
    "} \n",
    "\n",
    "category_regex = {k:\"|\".join(v) for k,v in category_items.items()}\n",
    "\n",
    "material_items = {\n",
    "    \"glass\" : [\"glass\", \"mirror\", \"lamp\", \"skylights\"],\n",
    "    \"stone\" : [\"stone\", \"masonry\", \"marble\"],\n",
    "    \"metal\" : [\"metal\", \"steel\", \"iron\", \"steel\", \"copper\", \"aluminum\"],\n",
    "    \"paper\" : [\"paper\", \"book\", \"magazines\", \"document\"],\n",
    "    \"wood\" : [\"wood\", \"furniture\", \"timber\"],\n",
    "    \"fiber\" : [\"fiber\"],\n",
    "    \"precious materials\" : [\"jewel\", \"gold\", \"silver\"],\n",
    "    \"ceramic\" : [\"ceramics\"],\n",
    "    \"plastic\" : [\"plastic\", \"polymers\"],\n",
    "    \"vinyl\" : [\"vinyl\"]\n",
    "}\n",
    "\n",
    "material_regex = {k:\"|\".join(v) for k,v in material_items.items()}\n",
    "\n",
    "def add_tag(data, mask, tag_col, tag):\n",
    "        \"\"\"\n",
    "        Aggregates multiple tags in the single value of type tag1,tag2,tag3,...\n",
    "        :param data:           an input DataFrame\n",
    "        :param mask:            an input DataFrame mask     \n",
    "        :param tag_col:         name of the tag column\n",
    "        :param tag:             an input tag to incorporate in tag column\n",
    "        \"\"\"\n",
    "        if tag_col == \"primary_tags\":\n",
    "            tag_mask = (data[tag_col].fillna(\"\") != \"\")\n",
    "            logging.warning(\"{}/{} items already belong to {} or other lists\".format((mask & tag_mask).sum(),\n",
    "                                                                    data.shape[0],\n",
    "                                                                    tag\n",
    "                                                                )\n",
    "                        )\n",
    "        else:\n",
    "            tag_mask = data[tag_col].fillna(\"\").str.contains(tag+\",\") | data[tag_col].fillna(\"\").str.contains(\",\"+tag) | (data[tag_col] == tag)\n",
    "            logging.warning(\"{}/{} items are already tagged as {}\".format((mask & tag_mask).sum(),\n",
    "                                                                    data.shape[0],\n",
    "                                                                    tag\n",
    "                                                                )\n",
    "                        )\n",
    "\n",
    "        logging.warning(\"Tagged {}/{} items as {}\".format((mask & (~tag_mask)).sum(),\n",
    "                                                                    data.shape[0],\n",
    "                                                                    tag\n",
    "                                                                )\n",
    "                       )\n",
    "        def add_tag_to_str(x, tag):\n",
    "            \n",
    "            if x == \"\":\n",
    "                return tag\n",
    "\n",
    "            if not tag+\",\" in x and not \",\"+tag in x:\n",
    "                x = x + \",\" + tag\n",
    "\n",
    "            return x\n",
    "\n",
    "        if (mask & (~tag_mask)).sum() > 0:\n",
    "            data.loc[mask & (~tag_mask), tag_col] = data.loc[mask & (~tag_mask), tag_col].fillna(\"\").apply(lambda x: add_tag_to_str(x, tag))\n",
    "\n",
    "        return data\n",
    "\n",
    "\n",
    "for category, pattern in category_regex.items():\n",
    "    mask = data[\"subcategory\"].astype(str).str.contains(pattern, flags=re.IGNORECASE)\n",
    "    data.loc[mask, \"category\"] = category\n",
    "    \n",
    "for material, pattern in material_regex.items():\n",
    "    mask = data[\"subcategory\"].astype(str).str.contains(pattern, flags=re.IGNORECASE)\n",
    "    data = add_tag(data, mask, \"material\", material)\n",
    "    \n",
    "data"
   ]
  },
  {
   "cell_type": "code",
   "execution_count": 68,
   "id": "46794d15",
   "metadata": {},
   "outputs": [],
   "source": [
    "def save_data_to_csv(data, filename, **kwargs):\n",
    "        \"\"\"\n",
    "        Save df to csv\n",
    "        :param data: df to save\n",
    "        :param filename: path to file\n",
    "        :param kwargs: additional arguments for DataFrame.to_csv method\n",
    "        \"\"\"\n",
    "        dirname = os.path.dirname(filename)\n",
    "        os.makedirs(dirname, exist_ok=True)\n",
    "        data.to_csv(filename, **kwargs)\n",
    "        \n",
    "def save_data_to_excel(data, filename, **kwargs):\n",
    "        \"\"\"\n",
    "        Save df to csv\n",
    "        :param data: df to save\n",
    "        :param filename: path to file\n",
    "        :param kwargs: additional arguments for DataFrame.to_csv method\n",
    "        \"\"\"\n",
    "        dirname = os.path.dirname(filename)\n",
    "        os.makedirs(dirname, exist_ok=True)\n",
    "        data.to_excel(filename, **kwargs)\n",
    "\n",
    "csv_file = (\"data/Pentatonic_Xact_Categories_5yr_v1.csv\")\n",
    "save_data_to_csv(data, csv_file, index=False)"
   ]
  },
  {
   "cell_type": "code",
   "execution_count": 43,
   "id": "08c3759c",
   "metadata": {},
   "outputs": [
    {
     "data": {
      "text/plain": [
       "['WINDOWS - ALUMINUM',\n",
       " 'WINDOWS - SKYLIGHTS',\n",
       " 'WINDOWS - SLIDING PATIO DOORS',\n",
       " 'WINDOWS - VINYL',\n",
       " 'WINDOWS - WOOD']"
      ]
     },
     "execution_count": 43,
     "metadata": {},
     "output_type": "execute_result"
    }
   ],
   "source": []
  },
  {
   "cell_type": "code",
   "execution_count": null,
   "id": "1c16ef8d",
   "metadata": {},
   "outputs": [],
   "source": []
  }
 ],
 "metadata": {
  "kernelspec": {
   "display_name": "Python 3",
   "language": "python",
   "name": "python3"
  },
  "language_info": {
   "codemirror_mode": {
    "name": "ipython",
    "version": 3
   },
   "file_extension": ".py",
   "mimetype": "text/x-python",
   "name": "python",
   "nbconvert_exporter": "python",
   "pygments_lexer": "ipython3",
   "version": "3.9.5"
  }
 },
 "nbformat": 4,
 "nbformat_minor": 5
}
