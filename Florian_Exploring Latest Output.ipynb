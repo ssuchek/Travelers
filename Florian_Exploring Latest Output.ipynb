{
 "cells": [
  {
   "cell_type": "code",
   "execution_count": 1,
   "metadata": {},
   "outputs": [],
   "source": [
    "import pandas as pd"
   ]
  },
  {
   "cell_type": "code",
   "execution_count": 15,
   "metadata": {},
   "outputs": [],
   "source": [
    "pd.set_option('display.max_columns', 500)"
   ]
  },
  {
   "cell_type": "code",
   "execution_count": 13,
   "metadata": {},
   "outputs": [],
   "source": [
    "df = pd.read_csv('C:/Users/Florian/projects/Travelers/data/output/revised/single_year/stas_210119/claims_weight_db_matched.csv',\n",
    "           delimiter=';', encoding='iso-8859-1')"
   ]
  },
  {
   "cell_type": "code",
   "execution_count": 35,
   "metadata": {},
   "outputs": [],
   "source": [
    "lf_mask = df['item_unit_cd']=='LF'"
   ]
  },
  {
   "cell_type": "code",
   "execution_count": 42,
   "metadata": {},
   "outputs": [],
   "source": [
    "sf_mask = df['item_unit_cd'] == 'SF'"
   ]
  },
  {
   "cell_type": "code",
   "execution_count": 45,
   "metadata": {},
   "outputs": [],
   "source": [
    "sq_mask = df['item_unit_cd'] == 'SQ'"
   ]
  },
  {
   "cell_type": "code",
   "execution_count": 36,
   "metadata": {},
   "outputs": [],
   "source": [
    "no_match_mask = df['unit_matching']=='undefined'"
   ]
  },
  {
   "cell_type": "code",
   "execution_count": 22,
   "metadata": {},
   "outputs": [],
   "source": [
    "df['counter'] = 1"
   ]
  },
  {
   "cell_type": "code",
   "execution_count": 46,
   "metadata": {},
   "outputs": [],
   "source": [
    "missed_items = df[sq_mask & no_match_mask].groupby(by='item_description').sum()['counter'].sort_values(ascending=False)"
   ]
  },
  {
   "cell_type": "code",
   "execution_count": 47,
   "metadata": {},
   "outputs": [
    {
     "data": {
      "text/plain": [
       "item_description\n",
       "ROOFING FELT - 15 LB.                                         5607\n",
       "TEAR OFF, HAUL AND DISPOSE OF COMP. SHINGLES - LAMINATED      2954\n",
       "TEAR OFF, HAUL AND DISPOSE OF COMP. SHINGLES - 3 TAB          1797\n",
       "ROOFING FELT - 30 LB.                                          335\n",
       "MODIFIED BITUMEN ROOF                                          281\n",
       "                                                              ... \n",
       "SYNTHETIC COMPOSITE RFG - SLATE STYLE - 50 YR. - INCL FELT       1\n",
       "TEAR OFF GRAVEL BALLAST (NO HAUL OFF)                            1\n",
       "TEAR OFF MEMBRANE ROOFING - FULLY ADHERED (NO HAUL OFF)          1\n",
       "TEAR OFF RIGID ASBESTOS SHINGLES (NO HAUL OFF)                   1\n",
       "TEAR OFF RUBBER ROOFING - PER ADHERED (NO HAUL OFF)              1\n",
       "Name: counter, Length: 105, dtype: int64"
      ]
     },
     "execution_count": 47,
     "metadata": {},
     "output_type": "execute_result"
    }
   ],
   "source": [
    "missed_items"
   ]
  },
  {
   "cell_type": "code",
   "execution_count": 41,
   "metadata": {},
   "outputs": [],
   "source": [
    "pd.DataFrame(missed_items).to_excel('missing_items.xlsx')"
   ]
  },
  {
   "cell_type": "code",
   "execution_count": null,
   "metadata": {},
   "outputs": [],
   "source": []
  }
 ],
 "metadata": {
  "kernelspec": {
   "display_name": "Python 3",
   "language": "python",
   "name": "python3"
  },
  "language_info": {
   "codemirror_mode": {
    "name": "ipython",
    "version": 3
   },
   "file_extension": ".py",
   "mimetype": "text/x-python",
   "name": "python",
   "nbconvert_exporter": "python",
   "pygments_lexer": "ipython3",
   "version": "3.6.5"
  }
 },
 "nbformat": 4,
 "nbformat_minor": 2
}
