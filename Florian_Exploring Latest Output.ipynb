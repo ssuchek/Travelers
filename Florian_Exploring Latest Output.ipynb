{
 "cells": [
  {
   "cell_type": "code",
   "execution_count": 1,
   "metadata": {},
   "outputs": [],
   "source": [
    "import pandas as pd"
   ]
  },
  {
   "cell_type": "code",
   "execution_count": 2,
   "metadata": {},
   "outputs": [],
   "source": [
    "pd.set_option('display.max_columns', 500)"
   ]
  },
  {
   "cell_type": "code",
   "execution_count": 4,
   "metadata": {},
   "outputs": [],
   "source": [
    "df = pd.read_excel('C:/Users/Florian/projects/Travelers/data/output/revised/single_year/stas_220120/claims_weight_db_matched_v0.6.0.xlsx')"
   ]
  },
  {
   "cell_type": "code",
   "execution_count": 64,
   "metadata": {},
   "outputs": [
    {
     "data": {
      "text/plain": [
       "99316"
      ]
     },
     "execution_count": 64,
     "metadata": {},
     "output_type": "execute_result"
    }
   ],
   "source": [
    "len(df)"
   ]
  },
  {
   "cell_type": "code",
   "execution_count": 112,
   "metadata": {},
   "outputs": [],
   "source": [
    "strict_no_matches = df['weights_primary_desc'].isna()"
   ]
  },
  {
   "cell_type": "code",
   "execution_count": 114,
   "metadata": {},
   "outputs": [],
   "source": [
    "df = df[strict_no_matches]"
   ]
  },
  {
   "cell_type": "code",
   "execution_count": 136,
   "metadata": {},
   "outputs": [],
   "source": [
    "#get the categories back\n",
    "mapping_dict = dict(zip( df['item_description'].to_list(), df['subcategory_prev'].to_list()))"
   ]
  },
  {
   "cell_type": "code",
   "execution_count": null,
   "metadata": {},
   "outputs": [],
   "source": []
  },
  {
   "cell_type": "code",
   "execution_count": 65,
   "metadata": {},
   "outputs": [],
   "source": [
    "#df.to_csv('claims_weight_db_matched_v0.6.0.csv')"
   ]
  },
  {
   "cell_type": "code",
   "execution_count": 115,
   "metadata": {},
   "outputs": [],
   "source": [
    "lf_mask = df['item_unit_cd']=='LF'"
   ]
  },
  {
   "cell_type": "code",
   "execution_count": 116,
   "metadata": {},
   "outputs": [],
   "source": [
    "sf_mask = df['item_unit_cd'] == 'SF'"
   ]
  },
  {
   "cell_type": "code",
   "execution_count": 117,
   "metadata": {},
   "outputs": [],
   "source": [
    "sq_mask = df['item_unit_cd'] == 'SQ'"
   ]
  },
  {
   "cell_type": "code",
   "execution_count": 118,
   "metadata": {},
   "outputs": [],
   "source": [
    "ea_mask = df['item_unit_cd'] == 'EA'"
   ]
  },
  {
   "cell_type": "code",
   "execution_count": 119,
   "metadata": {},
   "outputs": [],
   "source": [
    "no_match_mask = df['unit_matching']=='undefined'"
   ]
  },
  {
   "cell_type": "code",
   "execution_count": 120,
   "metadata": {},
   "outputs": [
    {
     "name": "stderr",
     "output_type": "stream",
     "text": [
      "C:\\Users\\Florian\\Anaconda3\\envs\\data-x\\lib\\site-packages\\ipykernel_launcher.py:1: SettingWithCopyWarning: \n",
      "A value is trying to be set on a copy of a slice from a DataFrame.\n",
      "Try using .loc[row_indexer,col_indexer] = value instead\n",
      "\n",
      "See the caveats in the documentation: https://pandas.pydata.org/pandas-docs/stable/user_guide/indexing.html#returning-a-view-versus-a-copy\n",
      "  \"\"\"Entry point for launching an IPython kernel.\n"
     ]
    }
   ],
   "source": [
    "df['counter'] = 1"
   ]
  },
  {
   "cell_type": "code",
   "execution_count": 121,
   "metadata": {},
   "outputs": [],
   "source": [
    "missed_items_lf = df[lf_mask & no_match_mask].groupby(by='item_description').sum()['counter'].sort_values(ascending=False)"
   ]
  },
  {
   "cell_type": "code",
   "execution_count": 122,
   "metadata": {},
   "outputs": [],
   "source": [
    "missed_items_sf = df[sf_mask & no_match_mask].groupby(by='item_description').sum()['counter'].sort_values(ascending=False)"
   ]
  },
  {
   "cell_type": "code",
   "execution_count": 123,
   "metadata": {},
   "outputs": [],
   "source": [
    "missed_items_sq = df[sq_mask & no_match_mask].groupby(by='item_description').sum()['counter'].sort_values(ascending=False)"
   ]
  },
  {
   "cell_type": "code",
   "execution_count": 124,
   "metadata": {},
   "outputs": [],
   "source": [
    "missed_items_ea = df[ea_mask & no_match_mask].groupby(by='item_description').sum()['counter'].sort_values(ascending=False)"
   ]
  },
  {
   "cell_type": "code",
   "execution_count": 129,
   "metadata": {},
   "outputs": [
    {
     "data": {
      "text/plain": [
       "item_description\n",
       "DIGITAL SATELLITE SYSTEM - ALIGNMENT AND CALIBRATION ONLY    588\n",
       "DUMPSTER LOAD - APPROX. 12 YARDS, 1-3 TONS OF DEBRIS         390\n",
       "DUMPSTER LOAD - APPROX. 20 YARDS, 4 TONS OF DEBRIS           286\n",
       "DUMPSTER LOAD - APPROX. 40 YARDS, 7-8 TONS OF DEBRIS         219\n",
       "DUMPSTER LOAD - APPROX. 30 YARDS, 5-7 TONS OF DEBRIS         186\n",
       "                                                            ... \n",
       "POOL COVERS - STANDARD GRADE                                   1\n",
       "POOL COVERS - HIGH GRADE                                       1\n",
       "DOG CARRIER - STANDARD GRADE                                   1\n",
       "DOG COLLAR                                                     1\n",
       "COAXIAL CABLE 12 FT                                            1\n",
       "Name: counter, Length: 909, dtype: int64"
      ]
     },
     "execution_count": 129,
     "metadata": {},
     "output_type": "execute_result"
    }
   ],
   "source": [
    "missed_items_ea"
   ]
  },
  {
   "cell_type": "code",
   "execution_count": 130,
   "metadata": {},
   "outputs": [],
   "source": [
    "# Create a Pandas Excel writer using XlsxWriter as the engine.\n",
    "writer = pd.ExcelWriter('0120_strict_missing_items.xlsx', engine='xlsxwriter')\n",
    "\n",
    "# Write each dataframe to a different worksheet.\n",
    "missed_items_lf.to_excel(writer, sheet_name='LF')\n",
    "missed_items_sq.to_excel(writer, sheet_name='SQ')\n",
    "missed_items_sf.to_excel(writer, sheet_name='SF')\n",
    "missed_items_ea.to_excel(writer, sheet_name='EA')\n",
    "\n",
    "# Close the Pandas Excel writer and output the Excel file.\n",
    "writer.save()"
   ]
  },
  {
   "cell_type": "code",
   "execution_count": 131,
   "metadata": {},
   "outputs": [],
   "source": [
    "missed_items_lf = pd.DataFrame(missed_items_lf)\n",
    "missed_items_sf = pd.DataFrame(missed_items_sf)\n",
    "missed_items_sq = pd.DataFrame(missed_items_sq)\n",
    "missed_items_ea = pd.DataFrame(missed_items_ea)"
   ]
  },
  {
   "cell_type": "code",
   "execution_count": 138,
   "metadata": {},
   "outputs": [],
   "source": [
    "missed_items_ea = missed_items_ea.reset_index()"
   ]
  },
  {
   "cell_type": "code",
   "execution_count": 140,
   "metadata": {},
   "outputs": [],
   "source": [
    "missed_items_ea['category'] = missed_items_ea['item_description'].map(mapping_dict)"
   ]
  },
  {
   "cell_type": "code",
   "execution_count": 145,
   "metadata": {},
   "outputs": [],
   "source": [
    "missed_items_ea['cat_counter'] = 1"
   ]
  },
  {
   "cell_type": "code",
   "execution_count": 152,
   "metadata": {},
   "outputs": [
    {
     "data": {
      "text/html": [
       "<div>\n",
       "<style scoped>\n",
       "    .dataframe tbody tr th:only-of-type {\n",
       "        vertical-align: middle;\n",
       "    }\n",
       "\n",
       "    .dataframe tbody tr th {\n",
       "        vertical-align: top;\n",
       "    }\n",
       "\n",
       "    .dataframe thead th {\n",
       "        text-align: right;\n",
       "    }\n",
       "</style>\n",
       "<table border=\"1\" class=\"dataframe\">\n",
       "  <thead>\n",
       "    <tr style=\"text-align: right;\">\n",
       "      <th></th>\n",
       "      <th>counter</th>\n",
       "      <th>cat_counter</th>\n",
       "    </tr>\n",
       "    <tr>\n",
       "      <th>category</th>\n",
       "      <th></th>\n",
       "      <th></th>\n",
       "    </tr>\n",
       "  </thead>\n",
       "  <tbody>\n",
       "    <tr>\n",
       "      <th>SPORTING GOODS &amp; OUTDOORS</th>\n",
       "      <td>448</td>\n",
       "      <td>195</td>\n",
       "    </tr>\n",
       "    <tr>\n",
       "      <th>KITCHENWARE</th>\n",
       "      <td>596</td>\n",
       "      <td>106</td>\n",
       "    </tr>\n",
       "    <tr>\n",
       "      <th>HOUSEWARES - DINING &amp; FLATWARE</th>\n",
       "      <td>342</td>\n",
       "      <td>74</td>\n",
       "    </tr>\n",
       "    <tr>\n",
       "      <th>CLOTHING &amp; ACCESSORIES</th>\n",
       "      <td>338</td>\n",
       "      <td>69</td>\n",
       "    </tr>\n",
       "    <tr>\n",
       "      <th>ELECTRONICS</th>\n",
       "      <td>327</td>\n",
       "      <td>65</td>\n",
       "    </tr>\n",
       "    <tr>\n",
       "      <th>ELECTRICAL</th>\n",
       "      <td>578</td>\n",
       "      <td>61</td>\n",
       "    </tr>\n",
       "    <tr>\n",
       "      <th>HOUSEWARES - HOME DECOR</th>\n",
       "      <td>462</td>\n",
       "      <td>60</td>\n",
       "    </tr>\n",
       "    <tr>\n",
       "      <th>JEWELRY &amp; WATCHES</th>\n",
       "      <td>113</td>\n",
       "      <td>42</td>\n",
       "    </tr>\n",
       "    <tr>\n",
       "      <th>LUGGAGE, BAGS &amp; ACCESSORIES</th>\n",
       "      <td>209</td>\n",
       "      <td>38</td>\n",
       "    </tr>\n",
       "    <tr>\n",
       "      <th>HOBBIES &amp; COLLECTIBLES</th>\n",
       "      <td>144</td>\n",
       "      <td>35</td>\n",
       "    </tr>\n",
       "    <tr>\n",
       "      <th>PET &amp; ANIMAL SUPPLIES</th>\n",
       "      <td>104</td>\n",
       "      <td>32</td>\n",
       "    </tr>\n",
       "    <tr>\n",
       "      <th>LINENS &amp; SOFTGOODS</th>\n",
       "      <td>257</td>\n",
       "      <td>24</td>\n",
       "    </tr>\n",
       "    <tr>\n",
       "      <th>ELECTRICAL - SPECIAL SYSTEMS</th>\n",
       "      <td>702</td>\n",
       "      <td>22</td>\n",
       "    </tr>\n",
       "    <tr>\n",
       "      <th>INFANT &amp; BABY RELATED GOODS</th>\n",
       "      <td>36</td>\n",
       "      <td>15</td>\n",
       "    </tr>\n",
       "    <tr>\n",
       "      <th>BUSINESS GOODS &amp; EQUIPMENT</th>\n",
       "      <td>109</td>\n",
       "      <td>14</td>\n",
       "    </tr>\n",
       "    <tr>\n",
       "      <th>LANDSCAPING</th>\n",
       "      <td>42</td>\n",
       "      <td>11</td>\n",
       "    </tr>\n",
       "    <tr>\n",
       "      <th>SPECIALTY ITEMS</th>\n",
       "      <td>103</td>\n",
       "      <td>9</td>\n",
       "    </tr>\n",
       "    <tr>\n",
       "      <th>MUSIC, MOVIES &amp; MEDIA</th>\n",
       "      <td>34</td>\n",
       "      <td>7</td>\n",
       "    </tr>\n",
       "    <tr>\n",
       "      <th>STAIRS</th>\n",
       "      <td>10</td>\n",
       "      <td>6</td>\n",
       "    </tr>\n",
       "    <tr>\n",
       "      <th>GENERAL DEMOLITION</th>\n",
       "      <td>1233</td>\n",
       "      <td>6</td>\n",
       "    </tr>\n",
       "    <tr>\n",
       "      <th>HEAVY EQUIPMENT</th>\n",
       "      <td>34</td>\n",
       "      <td>4</td>\n",
       "    </tr>\n",
       "    <tr>\n",
       "      <th>EXTERIOR STRUCTURES</th>\n",
       "      <td>14</td>\n",
       "      <td>4</td>\n",
       "    </tr>\n",
       "    <tr>\n",
       "      <th>CABINETRY</th>\n",
       "      <td>39</td>\n",
       "      <td>3</td>\n",
       "    </tr>\n",
       "    <tr>\n",
       "      <th>USER DEFINED ITEMS</th>\n",
       "      <td>66</td>\n",
       "      <td>2</td>\n",
       "    </tr>\n",
       "    <tr>\n",
       "      <th>MARBLE - CULTURED OR NATURAL</th>\n",
       "      <td>2</td>\n",
       "      <td>2</td>\n",
       "    </tr>\n",
       "    <tr>\n",
       "      <th>SCAFFOLDING</th>\n",
       "      <td>2</td>\n",
       "      <td>1</td>\n",
       "    </tr>\n",
       "    <tr>\n",
       "      <th>GLASS, GLAZING, &amp; STOREFRONTS</th>\n",
       "      <td>40</td>\n",
       "      <td>1</td>\n",
       "    </tr>\n",
       "    <tr>\n",
       "      <th>ANTIQUES &amp; VINTAGE GOODS</th>\n",
       "      <td>10</td>\n",
       "      <td>1</td>\n",
       "    </tr>\n",
       "  </tbody>\n",
       "</table>\n",
       "</div>"
      ],
      "text/plain": [
       "                                counter  cat_counter\n",
       "category                                            \n",
       "SPORTING GOODS & OUTDOORS           448          195\n",
       "KITCHENWARE                         596          106\n",
       "HOUSEWARES - DINING & FLATWARE      342           74\n",
       "CLOTHING & ACCESSORIES              338           69\n",
       "ELECTRONICS                         327           65\n",
       "ELECTRICAL                          578           61\n",
       "HOUSEWARES - HOME DECOR             462           60\n",
       "JEWELRY & WATCHES                   113           42\n",
       "LUGGAGE, BAGS & ACCESSORIES         209           38\n",
       "HOBBIES & COLLECTIBLES              144           35\n",
       "PET & ANIMAL SUPPLIES               104           32\n",
       "LINENS & SOFTGOODS                  257           24\n",
       "ELECTRICAL - SPECIAL SYSTEMS        702           22\n",
       "INFANT & BABY RELATED GOODS          36           15\n",
       "BUSINESS GOODS & EQUIPMENT          109           14\n",
       "LANDSCAPING                          42           11\n",
       "SPECIALTY ITEMS                     103            9\n",
       "MUSIC, MOVIES & MEDIA                34            7\n",
       "STAIRS                               10            6\n",
       "GENERAL DEMOLITION                 1233            6\n",
       "HEAVY EQUIPMENT                      34            4\n",
       "EXTERIOR STRUCTURES                  14            4\n",
       "CABINETRY                            39            3\n",
       "USER DEFINED ITEMS                   66            2\n",
       "MARBLE - CULTURED OR NATURAL          2            2\n",
       "SCAFFOLDING                           2            1\n",
       "GLASS, GLAZING, & STOREFRONTS        40            1\n",
       "ANTIQUES & VINTAGE GOODS             10            1"
      ]
     },
     "execution_count": 152,
     "metadata": {},
     "output_type": "execute_result"
    }
   ],
   "source": [
    "missed_items_ea.groupby(by='category').sum().sort_values(by='cat_counter', ascending=False)"
   ]
  },
  {
   "cell_type": "code",
   "execution_count": 142,
   "metadata": {},
   "outputs": [],
   "source": [
    "missed_items_ea.to_excel('cats_missing.xlsx')"
   ]
  },
  {
   "cell_type": "code",
   "execution_count": 92,
   "metadata": {},
   "outputs": [
    {
     "data": {
      "text/html": [
       "<div>\n",
       "<style scoped>\n",
       "    .dataframe tbody tr th:only-of-type {\n",
       "        vertical-align: middle;\n",
       "    }\n",
       "\n",
       "    .dataframe tbody tr th {\n",
       "        vertical-align: top;\n",
       "    }\n",
       "\n",
       "    .dataframe thead th {\n",
       "        text-align: right;\n",
       "    }\n",
       "</style>\n",
       "<table border=\"1\" class=\"dataframe\">\n",
       "  <thead>\n",
       "    <tr style=\"text-align: right;\">\n",
       "      <th></th>\n",
       "      <th>counter</th>\n",
       "    </tr>\n",
       "    <tr>\n",
       "      <th>item_description</th>\n",
       "      <th></th>\n",
       "    </tr>\n",
       "  </thead>\n",
       "  <tbody>\n",
       "    <tr>\n",
       "      <th>RIDGE END CAP FOR METAL ROOFING</th>\n",
       "      <td>77</td>\n",
       "    </tr>\n",
       "  </tbody>\n",
       "</table>\n",
       "</div>"
      ],
      "text/plain": [
       "                                 counter\n",
       "item_description                        \n",
       "RIDGE END CAP FOR METAL ROOFING       77"
      ]
     },
     "execution_count": 92,
     "metadata": {},
     "output_type": "execute_result"
    }
   ],
   "source": [
    "missed_items_ea[missed_items_ea.index.str.contains('RIDGE END CAP')]"
   ]
  },
  {
   "cell_type": "code",
   "execution_count": null,
   "metadata": {},
   "outputs": [],
   "source": []
  }
 ],
 "metadata": {
  "kernelspec": {
   "display_name": "Python 3",
   "language": "python",
   "name": "python3"
  },
  "language_info": {
   "codemirror_mode": {
    "name": "ipython",
    "version": 3
   },
   "file_extension": ".py",
   "mimetype": "text/x-python",
   "name": "python",
   "nbconvert_exporter": "python",
   "pygments_lexer": "ipython3",
   "version": "3.6.5"
  }
 },
 "nbformat": 4,
 "nbformat_minor": 2
}
