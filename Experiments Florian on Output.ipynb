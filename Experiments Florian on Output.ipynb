{
 "cells": [
  {
   "cell_type": "code",
   "execution_count": null,
   "metadata": {},
   "outputs": [],
   "source": [
    "import pandas as pd"
   ]
  },
  {
   "cell_type": "code",
   "execution_count": null,
   "metadata": {},
   "outputs": [],
   "source": [
    "data = pd.read_csv('C:/Users/Florian/projects/Travelers/data/output/revised/single_year/0118_1718_claims_weight_db_matched.csv')"
   ]
  },
  {
   "cell_type": "code",
   "execution_count": null,
   "metadata": {},
   "outputs": [],
   "source": [
    "data2 = data.copy()\n",
    "\n",
    "mask_1 = data2['unit_matching'] == -1\n",
    "mask_2 = data2['unit_matching'] == 0\n",
    "\n",
    "data2.loc[mask_1 | mask_2, 'weight_lbs'] = 0\n",
    "\n",
    "data2.loc[mask_1 | mask_2, 'weight_ustons'] = 0\n",
    "\n",
    "data2.loc[mask_1 | mask_2, 'volume_cf'] = 0\n",
    "\n",
    "data2.loc[mask_1 | mask_2, 'volume_cy'] = 0\n",
    "\n",
    "data2.loc[mask_1 | mask_2, 'max_weight_lbs'] = 0\n",
    "\n",
    "data2.loc[mask_1 | mask_2, 'max_weight_ustons'] = 0\n",
    "\n",
    "data2.loc[mask_1 | mask_2, 'max_volume_cf'] = 0\n",
    "\n",
    "data2.loc[mask_1 | mask_2, 'max_volume_cy'] = 0"
   ]
  },
  {
   "cell_type": "code",
   "execution_count": null,
   "metadata": {},
   "outputs": [],
   "source": [
    "data2.head()"
   ]
  },
  {
   "cell_type": "code",
   "execution_count": null,
   "metadata": {},
   "outputs": [],
   "source": []
  }
 ],
 "metadata": {
  "kernelspec": {
   "display_name": "Python 3",
   "language": "python",
   "name": "python3"
  },
  "language_info": {
   "codemirror_mode": {
    "name": "ipython",
    "version": 3
   },
   "file_extension": ".py",
   "mimetype": "text/x-python",
   "name": "python",
   "nbconvert_exporter": "python",
   "pygments_lexer": "ipython3",
   "version": "3.6.5"
  }
 },
 "nbformat": 4,
 "nbformat_minor": 2
}
