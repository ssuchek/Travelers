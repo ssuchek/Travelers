{
 "cells": [
  {
   "cell_type": "code",
   "execution_count": 2,
   "metadata": {},
   "outputs": [],
   "source": [
    "import pandas as pd"
   ]
  },
  {
   "cell_type": "code",
   "execution_count": null,
   "metadata": {},
   "outputs": [],
   "source": [
    "data = pd.read_csv('C:/Users/Florian/projects/Travelers/data/output/revised/single_year/0118_1718_claims_weight_db_matched.csv')"
   ]
  },
  {
   "cell_type": "code",
   "execution_count": null,
   "metadata": {},
   "outputs": [],
   "source": [
    "data2 = data.copy()\n",
    "\n",
    "mask_1 = data2['unit_matching'] == -1\n",
    "mask_2 = data2['unit_matching'] == 0\n",
    "\n",
    "data2.loc[mask_1 | mask_2, 'weight_lbs'] = 0\n",
    "\n",
    "data2.loc[mask_1 | mask_2, 'weight_ustons'] = 0\n",
    "\n",
    "data2.loc[mask_1 | mask_2, 'volume_cf'] = 0\n",
    "\n",
    "data2.loc[mask_1 | mask_2, 'volume_cy'] = 0\n",
    "\n",
    "data2.loc[mask_1 | mask_2, 'max_weight_lbs'] = 0\n",
    "\n",
    "data2.loc[mask_1 | mask_2, 'max_weight_ustons'] = 0\n",
    "\n",
    "data2.loc[mask_1 | mask_2, 'max_volume_cf'] = 0\n",
    "\n",
    "data2.loc[mask_1 | mask_2, 'max_volume_cy'] = 0"
   ]
  },
  {
   "cell_type": "code",
   "execution_count": null,
   "metadata": {},
   "outputs": [],
   "source": [
    "data2.head()"
   ]
  },
  {
   "cell_type": "code",
   "execution_count": null,
   "metadata": {},
   "outputs": [],
   "source": [
    "# study the gaps in the database"
   ]
  },
  {
   "cell_type": "code",
   "execution_count": 31,
   "metadata": {},
   "outputs": [],
   "source": [
    "data = pd.read_csv('C:/Users/Florian/projects/Travelers/data/output/revised/single_year/without_unitsfixed.csv')"
   ]
  },
  {
   "cell_type": "code",
   "execution_count": 32,
   "metadata": {},
   "outputs": [],
   "source": [
    "pd.set_option('display.max_columns', 500)"
   ]
  },
  {
   "cell_type": "code",
   "execution_count": 37,
   "metadata": {},
   "outputs": [],
   "source": [
    "not_nan_mask = data.pentatonic_id.isna() == False"
   ]
  },
  {
   "cell_type": "code",
   "execution_count": 38,
   "metadata": {},
   "outputs": [],
   "source": [
    "unit_0_mask = data.unit_matching == 0"
   ]
  },
  {
   "cell_type": "code",
   "execution_count": 41,
   "metadata": {},
   "outputs": [
    {
     "data": {
      "text/plain": [
       "array(['RIDGE CAP - COMPOSITION SHINGLES',\n",
       "       'RIDGE CAP - HIGH PROFILE - COMPOSITION SHINGLES',\n",
       "       'LAMINATED - COMP. SHINGLE RFG (PER SHINGLE)',\n",
       "       'RIDGE CAP - WOOD SHAKE SHINGLES', 'RIDGE CAP - WOOD SHINGLES',\n",
       "       'BUILT-UP ROOF WITH GRANULATED CAP SHEET - IN PLACE',\n",
       "       'RIDGE CAP - VENTING RIDGE CAP SHINGLES',\n",
       "       'RIDGE CAP - STANDARD PROFILE - COMPOSITION SHINGLES',\n",
       "       'SIDING - CEDAR SHINGLE', 'RIGID FOAM INSULATION BOARD - 1 1/2\"',\n",
       "       'SIDING - FIBER CEMENT - SHINGLE TYPE PANEL',\n",
       "       'ALUMINUM SHINGLE - RIDGE OR HIP',\n",
       "       '3 TAB - 25 YR. - COMPOSITION SHINGLE ROOFING (PER SHINGLE)',\n",
       "       'SLATE TILE - HIGH GRADE', 'SLATE TILE - PREMIUM GRADE',\n",
       "       'RIDGE CAP - SYNTHETIC COMPOSITE SHINGLES',\n",
       "       'SYNTHETIC COMPOSITE ROOFING (SHAKE OR SLATE STYLE) STARTER',\n",
       "       'SLATE TILE', 'ALUMINUM SHINGLE - RIDGE OR HIP - COLOR FINISH',\n",
       "       'RIDGE CAP - FIBER CEMENT COMPOSITE SHINGLES',\n",
       "       'RIDGE CAP - IMPACT RESISTANT COMPOSITION SHINGLES',\n",
       "       '3 TAB - 20 YR. - COMPOSITION SHINGLE ROOFING (PER SHINGLE)',\n",
       "       'SLATE FLOOR COVERING - HIGH GRADE',\n",
       "       'LAMINATED - HIGH GRADE - COMP. SHINGLE RFG. (PER SHINGLE)',\n",
       "       'LAMINATED - DELUXE GRD - COMP. SHINGLE RFG. (PER SHINGLE)',\n",
       "       'SLATE RIDGE OR HIP - 12\" TO 18\" TALL',\n",
       "       'LAMINATED - PREMIUM GRD - COMP. SHINGLE RFG. (PER SHINGLE)',\n",
       "       'SIDING - CEDAR SHINGLE - FANCY CUT',\n",
       "       'LAMINATED - SLATE LOOK PREMIUM COMP. SHINGLE (PER SHINGLE)',\n",
       "       'SLATE RIDGE OR HIP - HIGH GRADE - 18\" TO 24\" TALL',\n",
       "       'TEAR OFF, HAUL AND DISPOSE OF COMP. SHINGLES - 3 TAB'],\n",
       "      dtype=object)"
      ]
     },
     "execution_count": 41,
     "metadata": {},
     "output_type": "execute_result"
    }
   ],
   "source": [
    "data[not_nan_mask & unit_0_mask].item_description.unique()"
   ]
  },
  {
   "cell_type": "code",
   "execution_count": 42,
   "metadata": {},
   "outputs": [],
   "source": [
    "unit_problems = data[not_nan_mask & unit_0_mask].drop_duplicates(subset=['item_description', 'item_unit_cd'], keep='last')"
   ]
  },
  {
   "cell_type": "code",
   "execution_count": 43,
   "metadata": {},
   "outputs": [],
   "source": [
    "unit_problems.to_excel('unit_problems_2.xlsx')"
   ]
  },
  {
   "cell_type": "code",
   "execution_count": null,
   "metadata": {},
   "outputs": [],
   "source": [
    "# 1. look into where there is only one unit at play\n",
    "# 2. look where there are more units at play"
   ]
  },
  {
   "cell_type": "code",
   "execution_count": null,
   "metadata": {},
   "outputs": [],
   "source": []
  }
 ],
 "metadata": {
  "kernelspec": {
   "display_name": "Python 3",
   "language": "python",
   "name": "python3"
  },
  "language_info": {
   "codemirror_mode": {
    "name": "ipython",
    "version": 3
   },
   "file_extension": ".py",
   "mimetype": "text/x-python",
   "name": "python",
   "nbconvert_exporter": "python",
   "pygments_lexer": "ipython3",
   "version": "3.6.5"
  }
 },
 "nbformat": 4,
 "nbformat_minor": 2
}
